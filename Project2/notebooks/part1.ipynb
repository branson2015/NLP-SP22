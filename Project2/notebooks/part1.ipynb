{
 "cells": [
  {
   "cell_type": "code",
   "execution_count": 1,
   "metadata": {},
   "outputs": [
    {
     "name": "stderr",
     "output_type": "stream",
     "text": [
      "c:\\Users\\James\\Desktop\\COSC_524 - NLP\\NLP-SP22\\Project2\\venv\\lib\\site-packages\\tqdm\\auto.py:22: TqdmWarning: IProgress not found. Please update jupyter and ipywidgets. See https://ipywidgets.readthedocs.io/en/stable/user_install.html\n",
      "  from .autonotebook import tqdm as notebook_tqdm\n",
      "Downloading: 100%|██████████| 261M/261M [01:41<00:00, 2.57MB/s] \n",
      "c:\\Users\\James\\Desktop\\COSC_524 - NLP\\NLP-SP22\\Project2\\venv\\lib\\site-packages\\huggingface_hub\\file_download.py:123: UserWarning: `huggingface_hub` cache-system uses symlinks by default to efficiently store duplicated files but your machine does not support them in C:\\Users\\James\\.cache\\huggingface\\hub. Caching files will still work but in a degraded version that might require more space on your disk. This warning can be disabled by setting the `HF_HUB_DISABLE_SYMLINKS_WARNING` environment variable. For more details, see https://huggingface.co/docs/huggingface_hub/how-to-cache#limitations.\n",
      "To support symlinks on Windows, you either need to activate Developer Mode or to run Python as an administrator. In order to see activate developer mode, see this article: https://docs.microsoft.com/en-us/windows/apps/get-started/enable-your-device-for-development\n",
      "  warnings.warn(message)\n"
     ]
    }
   ],
   "source": [
    "from transformers import pipeline, AutoModelForQuestionAnswering\n",
    "import torch\n",
    "\n",
    "#device = torch.device(\"cuda:0\" if torch.cuda.is_available() else \"cpu\") #for metal GPU's, switchin to \"cuda\" for Nvidia GPU's\n",
    "#device = torch.device(\"cuda:1\" if torch.cuda.is_available() else \"cpu\")\n",
    "question_answerer = pipeline(\"question-answering\", model=\"distilbert-base-cased-distilled-squad\")"
   ]
  },
  {
   "cell_type": "code",
   "execution_count": 3,
   "metadata": {},
   "outputs": [
    {
     "name": "stdout",
     "output_type": "stream",
     "text": [
      "Answer: 'Vail’s been murdered'\n",
      "Answer: 'Vail'\n",
      "Answer: 'the railing of the companionway'\n"
     ]
    }
   ],
   "source": [
    "with open(\"../data/Passages/crime_scene.txt\", \"r\", encoding=\"utf8\") as f:\n",
    "    context = f.read()\n",
    "\n",
    "result = make_entry(\"How was he Killed?\", context=context)\n",
    "print(f\"Answer: '{result['answer']}'\")\n",
    "\n",
    "\n",
    "result = make_entry(\"What was the murder weapon?\", context=context)\n",
    "print(f\"Answer: '{result['answer']}'\")\n",
    "\n",
    "\n",
    "result = make_entry(\"Where did the murder take place?\", context=context)\n",
    "print(f\"Answer: '{result['answer']}'\")\n"
   ]
  },
  {
   "cell_type": "code",
   "execution_count": 4,
   "metadata": {},
   "outputs": [
    {
     "name": "stdout",
     "output_type": "stream",
     "text": [
      "Answer: 'just sky and water'\n",
      "Answer: 'surveyed me over his pipe'\n",
      "Answer: 'sky and water'\n"
     ]
    }
   ],
   "source": [
    "with open(\"../data/Passages/introduction_of_antagonist.txt\", \"r\", encoding=\"utf8\") as f:\n",
    "    context = f.read()\n",
    "\n",
    "result = make_entry(\"Where is Charlie Jones from?\", context=context)\n",
    "print(f\"Answer: '{result['answer']}'\")\n",
    "\n",
    "\n",
    "result = make_entry(\"How would Charlie Jones be discribed?\", context=context)\n",
    "print(f\"Answer: '{result['answer']}'\")\n",
    "\n",
    "\n",
    "result = make_entry(\"Where are they in this scene?\", context=context)\n",
    "print(f\"Answer: '{result['answer']}'\")"
   ]
  },
  {
   "cell_type": "code",
   "execution_count": 5,
   "metadata": {},
   "outputs": [
    {
     "name": "stdout",
     "output_type": "stream",
     "text": [
      "Answer: 'medical school'\n",
      "Answer: 'August 12'\n",
      "Answer: 'two-master'\n"
     ]
    }
   ],
   "source": [
    "with open(\"../data/Passages/introduction_of_protagonist.txt\", \"r\", encoding=\"utf8\") as f:\n",
    "    context = f.read()\n",
    "\n",
    "result = make_entry(\"What is his education?\", context=context)\n",
    "print(f\"Answer: '{result['answer']}'\")\n",
    "\n",
    "\n",
    "result = make_entry(\"When was he on the boat?\", context=context)\n",
    "print(f\"Answer: '{result['answer']}'\")\n",
    "\n",
    "\n",
    "result = make_entry(\"How old is he?\", context=context)\n",
    "print(f\"Answer: '{result['answer']}'\")"
   ]
  },
  {
   "cell_type": "code",
   "execution_count": 6,
   "metadata": {},
   "outputs": [
    {
     "name": "stdout",
     "output_type": "stream",
     "text": [
      "Answer: 'Charlie Jones'\n",
      "Answer: 'midnight until four in the morning'\n",
      "Answer: 'Danish girl'\n"
     ]
    }
   ],
   "source": [
    "with open(\"../data/Passages/resolution_of_the_crime.txt\", \"r\", encoding=\"utf8\") as f:\n",
    "    context = f.read()\n",
    "\n",
    "result = make_entry(\"Who murdered him?\", context=context)\n",
    "print(f\"Answer: '{result['answer']}'\")\n",
    "\n",
    "\n",
    "result = make_entry(\"When was he at the wheel?\", context=context)\n",
    "print(f\"Answer: '{result['answer']}'\")\n",
    "\n",
    "\n",
    "result = make_entry(\"Who did Charlie Jones intend to kill?\", context=context)\n",
    "print(f\"Answer: '{result['answer']}'\")"
   ]
  },
  {
   "cell_type": "code",
   "execution_count": 7,
   "metadata": {},
   "outputs": [
    {
     "name": "stdout",
     "output_type": "stream",
     "text": [
      "Answer: 'Turner’s'\n",
      "Answer: 'Danish girl'\n",
      "Answer: 'Mrs. Sloane'\n"
     ]
    }
   ],
   "source": [
    "with open(\"../data/Passages/significant_evidence.txt\", \"r\", encoding=\"utf8\") as f:\n",
    "    context = f.read()\n",
    "\n",
    "result = make_entry(\"Where was the bell coming form?\", context=context)\n",
    "print(f\"Answer: '{result['answer']}'\")\n",
    "\n",
    "\n",
    "result = make_entry(\"Whose body was laying on the ground?\", context=context)\n",
    "print(f\"Answer: '{result['answer']}'\")\n",
    "\n",
    "\n",
    "result = make_entry(\"Who did Charlie Jones intend to kill?\", context=context)\n",
    "print(f\"Answer: '{result['answer']}'\")"
   ]
  }
 ],
 "metadata": {
  "kernelspec": {
   "display_name": "Python 3.9.5 ('venv': venv)",
   "language": "python",
   "name": "python3"
  },
  "language_info": {
   "codemirror_mode": {
    "name": "ipython",
    "version": 3
   },
   "file_extension": ".py",
   "mimetype": "text/x-python",
   "name": "python",
   "nbconvert_exporter": "python",
   "pygments_lexer": "ipython3",
   "version": "3.9.5"
  },
  "orig_nbformat": 4,
  "vscode": {
   "interpreter": {
    "hash": "424a33ef9327472eebfae429e1a265b49bac8f25e699692d7299d4f768d59d08"
   }
  }
 },
 "nbformat": 4,
 "nbformat_minor": 2
}
